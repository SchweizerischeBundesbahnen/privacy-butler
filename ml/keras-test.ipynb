{
 "cells": [
  {
   "cell_type": "markdown",
   "metadata": {},
   "source": [
    "Based on a [Kaggle solution](https://www.kaggle.com/kredy10/simple-lstm-for-text-classification) by kredy10. See also tutorial by [Shivam Bansal](https://www.kaggle.com/shivamb/beginners-guide-to-text-generation-using-lstms) and on [Bag of Words](https://www.kaggle.com/c/word2vec-nlp-tutorial#part-1-for-beginners-bag-of-words).\n",
    "\n",
    "Dataset ([downll:\n",
    "\n",
    "> [Identifying the Provision of Choices in Privacy Policy Text](https://usableprivacy.org/static/files/ksathyendra_acl_2017.pdf). Kanthashree Mysore Sathyendra, Shomir Wilson, Florian Schaub, Sebastian Zimmeck, and Norman Sadeh. Conference on Empirical Methods in Natural Language Processing (EMNLP), Copenhagen, Denmark, Sep 2017"
   ]
  },
  {
   "cell_type": "code",
   "execution_count": 12,
   "metadata": {},
   "outputs": [],
   "source": [
    "import pandas as pd\n",
    "import numpy as np\n",
    "import seaborn as sns\n",
    "import matplotlib.pyplot as plt\n",
    "\n",
    "from sklearn.model_selection import train_test_split\n",
    "from sklearn.preprocessing import LabelEncoder\n",
    "\n",
    "from keras.models import Model\n",
    "from keras.layers import LSTM, Activation, Dense, Dropout, Input, Embedding\n",
    "from keras.optimizers import RMSprop\n",
    "from keras.preprocessing.text import Tokenizer\n",
    "from keras.preprocessing import sequence\n",
    "from keras.utils import to_categorical\n",
    "from keras.callbacks import EarlyStopping\n",
    "\n",
    "%matplotlib inline"
   ]
  },
  {
   "cell_type": "code",
   "execution_count": 2,
   "metadata": {},
   "outputs": [
    {
     "data": {
      "text/plain": [
       "'we have engaged third-party companies to process information about our users on our behalf, to help us improve our sites and find new members. these companies will combine our anonymized data about how you visit our websites with information that they have collected from outside our sites and provide it to us (and only us) so that we can optimize your experience on fool.com across devices and based on your interests. we will not provide the third-party service providers with your name, address, email address, or telephone number.  if you would like more information about the information we are receiving and your choices with respect to that data, please:      visit the <a href=\"http://www.aboutads.info/choices/\">daa opt-out program</a> the <a href=\"http://choices.ghosteryenterprise.com/global-opt-out.html\">evidon opt-out program</a> to learn how to opt out of having your information collected in browsers for ad serving purposes;   download the evidon ad control application, available for ios and android, to learn how to opt out of having your information collected in mobile apps; and   visit the <a href=\"http://www.networkadvertising.org/choices/\">network advertising initiative\\'s opt out page</a>.       visit the <a href=\"http://www.aboutads.info/choices/\">daa opt-out program</a> the <a href=\"http://choices.ghosteryenterprise.com/global-opt-out.html\">evidon opt-out program</a> to learn how to opt out of having your information collected in browsers for ad serving purposes;   download the evidon ad control application, available for ios and android, to learn how to opt out of having your information collected in mobile apps; and   visit the <a href=\"http://www.networkadvertising.org/choices/\">network advertising initiative\\'s opt out page</a>.'"
      ]
     },
     "execution_count": 2,
     "metadata": {},
     "output_type": "execute_result"
    }
   ],
   "source": [
    "df = pd.read_csv('OptOutTypeDataset.csv',delimiter=',',encoding='latin-1')\n",
    "df.a1.replace(\"FI, TH\", \"FI\", inplace = True)\n",
    "df.a1.replace(\"XX\", \"TH\", inplace = True)\n",
    "df['lowtext'] = df.fulltext.str.lower() + \" \" + df.text.str.lower()\n",
    "df.lowtext[0]"
   ]
  },
  {
   "cell_type": "code",
   "execution_count": 3,
   "metadata": {},
   "outputs": [
    {
     "name": "stdout",
     "output_type": "stream",
     "text": [
      "<class 'pandas.core.frame.DataFrame'>\n",
      "RangeIndex: 102 entries, 0 to 101\n",
      "Data columns (total 15 columns):\n",
      "id          102 non-null object\n",
      "a1          91 non-null object\n",
      "a2          102 non-null object\n",
      "a3          101 non-null object\n",
      "a4          102 non-null object\n",
      "a5          90 non-null object\n",
      "a6          102 non-null object\n",
      "a7          101 non-null object\n",
      "a8          102 non-null object\n",
      "text        102 non-null object\n",
      "button      102 non-null object\n",
      "url         102 non-null object\n",
      "fulltext    102 non-null object\n",
      "html        102 non-null object\n",
      "lowtext     102 non-null object\n",
      "dtypes: object(15)\n",
      "memory usage: 12.0+ KB\n"
     ]
    }
   ],
   "source": [
    "df.info()"
   ]
  },
  {
   "cell_type": "code",
   "execution_count": 4,
   "metadata": {},
   "outputs": [
    {
     "data": {
      "text/plain": [
       "Text(0.5,1,'a1 counts')"
      ]
     },
     "execution_count": 4,
     "metadata": {},
     "output_type": "execute_result"
    },
    {
     "data": {
      "image/png": "[encoded data removed]",
      "text/plain": [
       "<Figure size 432x288 with 1 Axes>"
      ]
     },
     "metadata": {
      "needs_background": "light"
     },
     "output_type": "display_data"
    }
   ],
   "source": [
    "sns.countplot(df.a1)\n",
    "plt.title('a1 counts')"
   ]
  },
  {
   "cell_type": "code",
   "execution_count": 5,
   "metadata": {},
   "outputs": [],
   "source": [
    "X = df.a2\n",
    "Y = df.lowtext\n",
    "le = LabelEncoder()\n",
    "Y = le.fit_transform(Y)\n",
    "Y = Y.reshape(-1,1)"
   ]
  },
  {
   "cell_type": "code",
   "execution_count": 6,
   "metadata": {},
   "outputs": [],
   "source": [
    "X_train,X_test,Y_train,Y_test = train_test_split(X,Y,test_size=0.15)"
   ]
  },
  {
   "cell_type": "code",
   "execution_count": 7,
   "metadata": {},
   "outputs": [],
   "source": [
    "max_words = 1000\n",
    "max_len = 150\n",
    "tok = Tokenizer(num_words=max_words)\n",
    "tok.fit_on_texts(X_train)\n",
    "sequences = tok.texts_to_sequences(X_train)\n",
    "sequences_matrix = sequence.pad_sequences(sequences,maxlen=max_len)"
   ]
  },
  {
   "cell_type": "code",
   "execution_count": 8,
   "metadata": {},
   "outputs": [
    {
     "name": "stdout",
     "output_type": "stream",
     "text": [
      "_________________________________________________________________\n",
      "Layer (type)                 Output Shape              Param #   \n",
      "=================================================================\n",
      "inputs (InputLayer)          (None, 150)               0         \n",
      "_________________________________________________________________\n",
      "embedding_1 (Embedding)      (None, 150, 50)           50000     \n",
      "_________________________________________________________________\n",
      "lstm_1 (LSTM)                (None, 64)                29440     \n",
      "_________________________________________________________________\n",
      "FC1 (Dense)                  (None, 256)               16640     \n",
      "_________________________________________________________________\n",
      "activation_1 (Activation)    (None, 256)               0         \n",
      "_________________________________________________________________\n",
      "dropout_1 (Dropout)          (None, 256)               0         \n",
      "_________________________________________________________________\n",
      "out_layer (Dense)            (None, 1)                 257       \n",
      "_________________________________________________________________\n",
      "activation_2 (Activation)    (None, 1)                 0         \n",
      "=================================================================\n",
      "Total params: 96,337\n",
      "Trainable params: 96,337\n",
      "Non-trainable params: 0\n",
      "_________________________________________________________________\n"
     ]
    }
   ],
   "source": [
    "def RNN():\n",
    "    inputs = Input(name='inputs',shape=[max_len])\n",
    "    layer = Embedding(max_words,50,input_length=max_len)(inputs)\n",
    "    layer = LSTM(64)(layer)\n",
    "    layer = Dense(256,name='FC1')(layer)\n",
    "    layer = Activation('relu')(layer)\n",
    "    layer = Dropout(0.5)(layer)\n",
    "    layer = Dense(1,name='out_layer')(layer)\n",
    "    layer = Activation('sigmoid')(layer)\n",
    "    model = Model(inputs=inputs,outputs=layer)\n",
    "    return model\n",
    "\n",
    "model = RNN()\n",
    "model.summary()\n",
    "model.compile(loss='binary_crossentropy',optimizer=RMSprop(),metrics=['accuracy'])"
   ]
  },
  {
   "cell_type": "code",
   "execution_count": 9,
   "metadata": {},
   "outputs": [
    {
     "name": "stdout",
     "output_type": "stream",
     "text": [
      "Train on 68 samples, validate on 18 samples\n",
      "Epoch 1/10\n",
      "68/68 [==============================] - 1s 21ms/step - loss: 0.9920 - acc: 0.0147 - val_loss: -2.2099 - val_acc: 0.0000e+00\n",
      "Epoch 2/10\n",
      "68/68 [==============================] - 0s 3ms/step - loss: -2.2317 - acc: 0.0000e+00 - val_loss: -6.2272 - val_acc: 0.0000e+00\n",
      "Epoch 3/10\n",
      "68/68 [==============================] - 0s 3ms/step - loss: -6.5033 - acc: 0.0000e+00 - val_loss: -13.4513 - val_acc: 0.0000e+00\n",
      "Epoch 4/10\n",
      "68/68 [==============================] - 0s 2ms/step - loss: -13.2139 - acc: 0.0000e+00 - val_loss: -29.4024 - val_acc: 0.0000e+00\n",
      "Epoch 5/10\n",
      "68/68 [==============================] - 0s 2ms/step - loss: -29.0680 - acc: 0.0000e+00 - val_loss: -93.9035 - val_acc: 0.0000e+00\n",
      "Epoch 6/10\n",
      "68/68 [==============================] - 0s 2ms/step - loss: -93.6820 - acc: 0.0000e+00 - val_loss: -223.2548 - val_acc: 0.0000e+00\n",
      "Epoch 7/10\n",
      "68/68 [==============================] - 0s 3ms/step - loss: -223.2197 - acc: 0.0000e+00 - val_loss: -310.9630 - val_acc: 0.0000e+00\n",
      "Epoch 8/10\n",
      "68/68 [==============================] - 0s 3ms/step - loss: -310.4756 - acc: 0.0000e+00 - val_loss: -388.9410 - val_acc: 0.0000e+00\n",
      "Epoch 9/10\n",
      "68/68 [==============================] - 0s 3ms/step - loss: -383.3945 - acc: 0.0000e+00 - val_loss: -463.5355 - val_acc: 0.0000e+00\n",
      "Epoch 10/10\n",
      "68/68 [==============================] - 0s 2ms/step - loss: -458.0089 - acc: 0.0000e+00 - val_loss: -536.5315 - val_acc: 0.0000e+00\n"
     ]
    },
    {
     "data": {
      "text/plain": [
       "<keras.callbacks.History at 0x7fcfb9151208>"
      ]
     },
     "execution_count": 9,
     "metadata": {},
     "output_type": "execute_result"
    }
   ],
   "source": [
    "model.fit(sequences_matrix,Y_train,batch_size=128,epochs=10,\n",
    "          validation_split=0.2,callbacks=[EarlyStopping(monitor='val_loss',min_delta=0.0001)])"
   ]
  },
  {
   "cell_type": "code",
   "execution_count": 10,
   "metadata": {},
   "outputs": [
    {
     "name": "stdout",
     "output_type": "stream",
     "text": [
      "\r",
      "16/16 [==============================] - 0s 1ms/step\n"
     ]
    }
   ],
   "source": [
    "test_sequences = tok.texts_to_sequences(X_test)\n",
    "test_sequences_matrix = sequence.pad_sequences(test_sequences,maxlen=max_len)\n",
    "accr = model.evaluate(test_sequences_matrix,Y_test)"
   ]
  },
  {
   "cell_type": "code",
   "execution_count": 11,
   "metadata": {},
   "outputs": [
    {
     "name": "stdout",
     "output_type": "stream",
     "text": [
      "Test set\n",
      "  Loss: -472.713\n",
      "  Accuracy: 0.062\n"
     ]
    }
   ],
   "source": [
    "print('Test set\\n  Loss: {:0.3f}\\n  Accuracy: {:0.3f}'.format(accr[0],accr[1]))"
   ]
  }
 ],
 "metadata": {
  "kernelspec": {
   "display_name": "Python 3",
   "language": "python",
   "name": "python3"
  },
  "language_info": {
   "codemirror_mode": {
    "name": "ipython",
    "version": 3
   },
   "file_extension": ".py",
   "mimetype": "text/x-python",
   "name": "python",
   "nbconvert_exporter": "python",
   "pygments_lexer": "ipython3",
   "version": "3.6.6"
  }
 },
 "nbformat": 4,
 "nbformat_minor": 2
}
